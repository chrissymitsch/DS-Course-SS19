{
 "cells": [
  {
   "cell_type": "code",
   "execution_count": 1,
   "metadata": {},
   "outputs": [],
   "source": [
    "import pandas as pd\n",
    "import numpy as np\n",
    "import matplotlib.pyplot as plt\n",
    "from sklearn.metrics import roc_curve, auc, roc_auc_score\n",
    "%matplotlib inline"
   ]
  },
  {
   "cell_type": "code",
   "execution_count": 2,
   "metadata": {},
   "outputs": [],
   "source": [
    "import warnings\n",
    "warnings.filterwarnings(\"ignore\")"
   ]
  },
  {
   "cell_type": "code",
   "execution_count": 3,
   "metadata": {},
   "outputs": [],
   "source": [
    "import glob"
   ]
  },
  {
   "cell_type": "code",
   "execution_count": 4,
   "metadata": {},
   "outputs": [
    {
     "data": {
      "text/html": [
       "<div>\n",
       "<style scoped>\n",
       "    .dataframe tbody tr th:only-of-type {\n",
       "        vertical-align: middle;\n",
       "    }\n",
       "\n",
       "    .dataframe tbody tr th {\n",
       "        vertical-align: top;\n",
       "    }\n",
       "\n",
       "    .dataframe thead th {\n",
       "        text-align: right;\n",
       "    }\n",
       "</style>\n",
       "<table border=\"1\" class=\"dataframe\">\n",
       "  <thead>\n",
       "    <tr style=\"text-align: right;\">\n",
       "      <th></th>\n",
       "      <th>basket</th>\n",
       "      <th>returnLabel</th>\n",
       "      <th>totalAmount</th>\n",
       "      <th>transactionId</th>\n",
       "      <th>zipCode</th>\n",
       "    </tr>\n",
       "  </thead>\n",
       "  <tbody>\n",
       "    <tr>\n",
       "      <th>0</th>\n",
       "      <td>[3, 1]</td>\n",
       "      <td>0</td>\n",
       "      <td>106</td>\n",
       "      <td>3520406327</td>\n",
       "      <td>7667</td>\n",
       "    </tr>\n",
       "    <tr>\n",
       "      <th>1</th>\n",
       "      <td>[1]</td>\n",
       "      <td>0</td>\n",
       "      <td>50</td>\n",
       "      <td>6030070379</td>\n",
       "      <td>7647</td>\n",
       "    </tr>\n",
       "    <tr>\n",
       "      <th>2</th>\n",
       "      <td>[1, 1, 5, 4, 1]</td>\n",
       "      <td>0</td>\n",
       "      <td>175</td>\n",
       "      <td>6579182382</td>\n",
       "      <td>2633</td>\n",
       "    </tr>\n",
       "    <tr>\n",
       "      <th>3</th>\n",
       "      <td>[1, 2, 0, 1]</td>\n",
       "      <td>0</td>\n",
       "      <td>272</td>\n",
       "      <td>2779338441</td>\n",
       "      <td>4309</td>\n",
       "    </tr>\n",
       "    <tr>\n",
       "      <th>4</th>\n",
       "      <td>[2]</td>\n",
       "      <td>0</td>\n",
       "      <td>14</td>\n",
       "      <td>3198368336</td>\n",
       "      <td>4659</td>\n",
       "    </tr>\n",
       "  </tbody>\n",
       "</table>\n",
       "</div>"
      ],
      "text/plain": [
       "            basket  returnLabel  totalAmount  transactionId  zipCode\n",
       "0           [3, 1]            0          106     3520406327     7667\n",
       "1              [1]            0           50     6030070379     7647\n",
       "2  [1, 1, 5, 4, 1]            0          175     6579182382     2633\n",
       "3     [1, 2, 0, 1]            0          272     2779338441     4309\n",
       "4              [2]            0           14     3198368336     4659"
      ]
     },
     "execution_count": 4,
     "metadata": {},
     "output_type": "execute_result"
    }
   ],
   "source": [
    "data = []\n",
    "list = [pd.read_json(filename, lines=True) for filename in glob.glob(\"../week4/data/return-data/*.txt\")]\n",
    "df = pd.concat(list, axis=0)\n",
    "df.head()"
   ]
  },
  {
   "cell_type": "code",
   "execution_count": 5,
   "metadata": {},
   "outputs": [
    {
     "data": {
      "text/html": [
       "<div>\n",
       "<style scoped>\n",
       "    .dataframe tbody tr th:only-of-type {\n",
       "        vertical-align: middle;\n",
       "    }\n",
       "\n",
       "    .dataframe tbody tr th {\n",
       "        vertical-align: top;\n",
       "    }\n",
       "\n",
       "    .dataframe thead th {\n",
       "        text-align: right;\n",
       "    }\n",
       "</style>\n",
       "<table border=\"1\" class=\"dataframe\">\n",
       "  <thead>\n",
       "    <tr style=\"text-align: right;\">\n",
       "      <th></th>\n",
       "      <th>basket</th>\n",
       "      <th>returnLabel</th>\n",
       "      <th>totalAmount</th>\n",
       "    </tr>\n",
       "  </thead>\n",
       "  <tbody>\n",
       "    <tr>\n",
       "      <th>0</th>\n",
       "      <td>[3, 1]</td>\n",
       "      <td>0</td>\n",
       "      <td>106</td>\n",
       "    </tr>\n",
       "    <tr>\n",
       "      <th>1</th>\n",
       "      <td>[1]</td>\n",
       "      <td>0</td>\n",
       "      <td>50</td>\n",
       "    </tr>\n",
       "    <tr>\n",
       "      <th>2</th>\n",
       "      <td>[1, 1, 5, 4, 1]</td>\n",
       "      <td>0</td>\n",
       "      <td>175</td>\n",
       "    </tr>\n",
       "    <tr>\n",
       "      <th>3</th>\n",
       "      <td>[1, 2, 0, 1]</td>\n",
       "      <td>0</td>\n",
       "      <td>272</td>\n",
       "    </tr>\n",
       "    <tr>\n",
       "      <th>4</th>\n",
       "      <td>[2]</td>\n",
       "      <td>0</td>\n",
       "      <td>14</td>\n",
       "    </tr>\n",
       "  </tbody>\n",
       "</table>\n",
       "</div>"
      ],
      "text/plain": [
       "            basket  returnLabel  totalAmount\n",
       "0           [3, 1]            0          106\n",
       "1              [1]            0           50\n",
       "2  [1, 1, 5, 4, 1]            0          175\n",
       "3     [1, 2, 0, 1]            0          272\n",
       "4              [2]            0           14"
      ]
     },
     "execution_count": 5,
     "metadata": {},
     "output_type": "execute_result"
    }
   ],
   "source": [
    "df.drop(['transactionId','zipCode'],axis=1,inplace=True)\n",
    "df.head()"
   ]
  },
  {
   "cell_type": "code",
   "execution_count": 6,
   "metadata": {
    "scrolled": true
   },
   "outputs": [
    {
     "data": {
      "text/html": [
       "<div>\n",
       "<style scoped>\n",
       "    .dataframe tbody tr th:only-of-type {\n",
       "        vertical-align: middle;\n",
       "    }\n",
       "\n",
       "    .dataframe tbody tr th {\n",
       "        vertical-align: top;\n",
       "    }\n",
       "\n",
       "    .dataframe thead th {\n",
       "        text-align: right;\n",
       "    }\n",
       "</style>\n",
       "<table border=\"1\" class=\"dataframe\">\n",
       "  <thead>\n",
       "    <tr style=\"text-align: right;\">\n",
       "      <th></th>\n",
       "      <th>returnLabel</th>\n",
       "      <th>totalAmount</th>\n",
       "      <th>c_0</th>\n",
       "      <th>c_1</th>\n",
       "      <th>c_2</th>\n",
       "      <th>c_3</th>\n",
       "      <th>c_4</th>\n",
       "      <th>c_5</th>\n",
       "    </tr>\n",
       "  </thead>\n",
       "  <tbody>\n",
       "    <tr>\n",
       "      <th>0</th>\n",
       "      <td>0</td>\n",
       "      <td>106</td>\n",
       "      <td>0</td>\n",
       "      <td>1</td>\n",
       "      <td>0</td>\n",
       "      <td>1</td>\n",
       "      <td>0</td>\n",
       "      <td>0</td>\n",
       "    </tr>\n",
       "    <tr>\n",
       "      <th>1</th>\n",
       "      <td>0</td>\n",
       "      <td>50</td>\n",
       "      <td>0</td>\n",
       "      <td>1</td>\n",
       "      <td>0</td>\n",
       "      <td>0</td>\n",
       "      <td>0</td>\n",
       "      <td>0</td>\n",
       "    </tr>\n",
       "    <tr>\n",
       "      <th>2</th>\n",
       "      <td>0</td>\n",
       "      <td>175</td>\n",
       "      <td>0</td>\n",
       "      <td>3</td>\n",
       "      <td>0</td>\n",
       "      <td>0</td>\n",
       "      <td>1</td>\n",
       "      <td>1</td>\n",
       "    </tr>\n",
       "    <tr>\n",
       "      <th>3</th>\n",
       "      <td>0</td>\n",
       "      <td>272</td>\n",
       "      <td>1</td>\n",
       "      <td>2</td>\n",
       "      <td>1</td>\n",
       "      <td>0</td>\n",
       "      <td>0</td>\n",
       "      <td>0</td>\n",
       "    </tr>\n",
       "    <tr>\n",
       "      <th>4</th>\n",
       "      <td>0</td>\n",
       "      <td>14</td>\n",
       "      <td>0</td>\n",
       "      <td>0</td>\n",
       "      <td>1</td>\n",
       "      <td>0</td>\n",
       "      <td>0</td>\n",
       "      <td>0</td>\n",
       "    </tr>\n",
       "  </tbody>\n",
       "</table>\n",
       "</div>"
      ],
      "text/plain": [
       "   returnLabel  totalAmount  c_0  c_1  c_2  c_3  c_4  c_5\n",
       "0            0          106    0    1    0    1    0    0\n",
       "1            0           50    0    1    0    0    0    0\n",
       "2            0          175    0    3    0    0    1    1\n",
       "3            0          272    1    2    1    0    0    0\n",
       "4            0           14    0    0    1    0    0    0"
      ]
     },
     "execution_count": 6,
     "metadata": {},
     "output_type": "execute_result"
    }
   ],
   "source": [
    "def categories(c, value):\n",
    "    return c.count(value)\n",
    "\n",
    "df['c_0'] = df['basket'].apply(lambda x: categories(x, 0))\n",
    "df['c_1'] = df['basket'].apply(lambda x: categories(x, 1))\n",
    "df['c_2'] = df['basket'].apply(lambda x: categories(x, 2))\n",
    "df['c_3'] = df['basket'].apply(lambda x: categories(x, 3))\n",
    "df['c_4'] = df['basket'].apply(lambda x: categories(x, 4))\n",
    "df['c_5'] = df['basket'].apply(lambda x: categories(x, 5))\n",
    "\n",
    "df.drop(['basket'],axis=1,inplace=True)\n",
    "\n",
    "df.head()"
   ]
  },
  {
   "cell_type": "code",
   "execution_count": 7,
   "metadata": {},
   "outputs": [],
   "source": [
    "from sklearn.model_selection import train_test_split\n",
    "\n",
    "X = df.drop(['returnLabel'],axis=1)\n",
    "y = df['returnLabel']\n",
    "\n",
    "X_train, X_test, y_train, y_test = train_test_split(X, y, test_size=0.50,random_state=0)"
   ]
  },
  {
   "cell_type": "markdown",
   "metadata": {},
   "source": [
    "## Logistic Regression"
   ]
  },
  {
   "cell_type": "code",
   "execution_count": 8,
   "metadata": {},
   "outputs": [
    {
     "data": {
      "text/plain": [
       "LogisticRegression(C=1.0, class_weight=None, dual=False, fit_intercept=True,\n",
       "          intercept_scaling=1, max_iter=100, multi_class='warn',\n",
       "          n_jobs=None, penalty='l2', random_state=None, solver='warn',\n",
       "          tol=0.0001, verbose=0, warm_start=False)"
      ]
     },
     "execution_count": 8,
     "metadata": {},
     "output_type": "execute_result"
    }
   ],
   "source": [
    "from sklearn.linear_model import LogisticRegression\n",
    "\n",
    "logmodel = LogisticRegression()\n",
    "logmodel.fit(X_train,y_train)"
   ]
  },
  {
   "cell_type": "code",
   "execution_count": 9,
   "metadata": {},
   "outputs": [],
   "source": [
    "logmodelpredictions = logmodel.predict_proba(X_test)"
   ]
  },
  {
   "cell_type": "markdown",
   "metadata": {},
   "source": [
    "## Random Forest"
   ]
  },
  {
   "cell_type": "code",
   "execution_count": 10,
   "metadata": {},
   "outputs": [
    {
     "data": {
      "text/plain": [
       "RandomForestClassifier(bootstrap=True, class_weight=None, criterion='gini',\n",
       "            max_depth=None, max_features='auto', max_leaf_nodes=None,\n",
       "            min_impurity_decrease=0.0, min_impurity_split=None,\n",
       "            min_samples_leaf=1, min_samples_split=2,\n",
       "            min_weight_fraction_leaf=0.0, n_estimators=10, n_jobs=None,\n",
       "            oob_score=False, random_state=None, verbose=0,\n",
       "            warm_start=False)"
      ]
     },
     "execution_count": 10,
     "metadata": {},
     "output_type": "execute_result"
    }
   ],
   "source": [
    "from sklearn.ensemble import RandomForestClassifier\n",
    "\n",
    "forest = RandomForestClassifier()\n",
    "forest.fit(X_train,y_train)"
   ]
  },
  {
   "cell_type": "code",
   "execution_count": 11,
   "metadata": {},
   "outputs": [],
   "source": [
    "forestpredictions = forest.predict_proba(X_test)"
   ]
  },
  {
   "cell_type": "markdown",
   "metadata": {},
   "source": [
    "## ROC curve"
   ]
  },
  {
   "cell_type": "markdown",
   "metadata": {},
   "source": [
    "### Logistic Regression"
   ]
  },
  {
   "cell_type": "code",
   "execution_count": 12,
   "metadata": {},
   "outputs": [],
   "source": [
    "fpr, tpr, thresholds = roc_curve(y_test, logmodelpredictions[:, 1])"
   ]
  },
  {
   "cell_type": "code",
   "execution_count": 13,
   "metadata": {},
   "outputs": [
    {
     "data": {
      "text/plain": [
       "array([0.        , 0.        , 0.        , ..., 0.99514531, 0.99527831,\n",
       "       1.        ])"
      ]
     },
     "execution_count": 13,
     "metadata": {},
     "output_type": "execute_result"
    }
   ],
   "source": [
    "fpr"
   ]
  },
  {
   "cell_type": "code",
   "execution_count": 14,
   "metadata": {},
   "outputs": [
    {
     "data": {
      "text/plain": [
       "array([0.        , 0.00215983, 0.07991361, ..., 1.        , 1.        ,\n",
       "       1.        ])"
      ]
     },
     "execution_count": 14,
     "metadata": {},
     "output_type": "execute_result"
    }
   ],
   "source": [
    "tpr"
   ]
  },
  {
   "cell_type": "code",
   "execution_count": 15,
   "metadata": {},
   "outputs": [
    {
     "data": {
      "text/plain": [
       "array([1.99840318e+00, 9.98403176e-01, 8.80900442e-01, ...,\n",
       "       6.49952710e-10, 6.44950908e-10, 3.75548711e-12])"
      ]
     },
     "execution_count": 15,
     "metadata": {},
     "output_type": "execute_result"
    }
   ],
   "source": [
    "thresholds"
   ]
  },
  {
   "cell_type": "code",
   "execution_count": 16,
   "metadata": {},
   "outputs": [
    {
     "data": {
      "text/plain": [
       "0.936785015967094"
      ]
     },
     "execution_count": 16,
     "metadata": {},
     "output_type": "execute_result"
    }
   ],
   "source": [
    "roc_auc = auc(fpr, tpr)\n",
    "roc_auc"
   ]
  },
  {
   "cell_type": "markdown",
   "metadata": {},
   "source": [
    "### Random Forest"
   ]
  },
  {
   "cell_type": "code",
   "execution_count": 17,
   "metadata": {},
   "outputs": [],
   "source": [
    "fpr2, tpr2, thresholds2 = roc_curve(y_test, forestpredictions[:, 1])"
   ]
  },
  {
   "cell_type": "code",
   "execution_count": 18,
   "metadata": {},
   "outputs": [
    {
     "data": {
      "text/plain": [
       "array([0.00000000e+00, 1.33005254e-04, 1.99507881e-04, 1.26354991e-03,\n",
       "       1.46305779e-03, 3.19212609e-03, 3.19212609e-03, 3.32513134e-03,\n",
       "       3.85715236e-03, 3.92365498e-03, 3.92365498e-03, 6.51725743e-03,\n",
       "       6.71676531e-03, 6.84977057e-03, 9.37687039e-03, 9.64288089e-03,\n",
       "       9.70938352e-03, 9.84238877e-03, 1.01749019e-02, 1.01749019e-02,\n",
       "       1.03079072e-02, 1.05739177e-02, 1.07069229e-02, 1.44310700e-02,\n",
       "       1.44975727e-02, 1.45640753e-02, 1.47635832e-02, 1.49630910e-02,\n",
       "       1.50295937e-02, 1.54286094e-02, 1.54951121e-02, 1.57611226e-02,\n",
       "       1.58276252e-02, 1.59606304e-02, 1.60271331e-02, 2.02833012e-02,\n",
       "       2.02833012e-02, 2.04163064e-02, 2.06823170e-02, 2.09483275e-02,\n",
       "       2.11478353e-02, 2.12143380e-02, 2.16133537e-02, 2.16133537e-02,\n",
       "       2.17463590e-02, 2.19458669e-02, 2.21453747e-02, 2.22783800e-02,\n",
       "       2.24778879e-02, 2.27438984e-02, 2.95936689e-02, 2.98596795e-02,\n",
       "       2.99926847e-02, 3.05247057e-02, 3.05912084e-02, 3.08572189e-02,\n",
       "       3.09902241e-02, 3.14557425e-02, 3.15887478e-02, 3.16552504e-02,\n",
       "       3.20542661e-02, 3.21207688e-02, 3.22537740e-02, 3.25862872e-02,\n",
       "       3.29188003e-02, 3.31848108e-02, 3.35838266e-02, 3.36503292e-02,\n",
       "       3.38498371e-02, 3.39828423e-02, 3.41823502e-02, 4.58868125e-02,\n",
       "       4.62193257e-02, 4.69508546e-02, 4.77488861e-02, 4.78153887e-02,\n",
       "       4.80813992e-02, 4.80813992e-02, 4.84804150e-02, 4.86799229e-02,\n",
       "       4.90789386e-02, 4.92784465e-02, 4.94114518e-02, 4.98104675e-02,\n",
       "       4.99434728e-02, 5.00099754e-02, 5.04754938e-02, 5.06084990e-02,\n",
       "       5.10075148e-02, 5.12070227e-02, 5.13400279e-02, 5.14065306e-02,\n",
       "       5.15395358e-02, 5.18055463e-02, 5.22710647e-02, 5.23375673e-02,\n",
       "       5.25370752e-02, 5.28695883e-02, 5.36676199e-02, 5.38671278e-02,\n",
       "       8.61209018e-02, 8.61874044e-02, 8.65199175e-02, 8.65864202e-02,\n",
       "       8.67859280e-02, 8.69189333e-02, 8.71184412e-02, 8.75174569e-02,\n",
       "       8.77834674e-02, 8.78499701e-02, 8.79829753e-02, 9.00445568e-02,\n",
       "       9.04435725e-02, 9.14411119e-02, 9.17071224e-02, 9.17736251e-02,\n",
       "       9.21726408e-02, 9.25051540e-02, 9.45002328e-02, 9.70273326e-02,\n",
       "       9.72268405e-02, 9.75593536e-02, 1.00684977e-01, 1.00950988e-01,\n",
       "       1.01350003e-01, 1.01549511e-01, 1.02015030e-01, 1.02214537e-01,\n",
       "       1.00000000e+00])"
      ]
     },
     "execution_count": 18,
     "metadata": {},
     "output_type": "execute_result"
    }
   ],
   "source": [
    "fpr2"
   ]
  },
  {
   "cell_type": "code",
   "execution_count": 19,
   "metadata": {},
   "outputs": [
    {
     "data": {
      "text/plain": [
       "array([0.        , 0.02591793, 0.02591793, 0.06263499, 0.06263499,\n",
       "       0.11447084, 0.11663067, 0.11663067, 0.11663067, 0.11663067,\n",
       "       0.1187905 , 0.18142549, 0.18142549, 0.18358531, 0.23974082,\n",
       "       0.23974082, 0.23974082, 0.23974082, 0.23974082, 0.24190065,\n",
       "       0.24190065, 0.24190065, 0.24190065, 0.28509719, 0.28509719,\n",
       "       0.28941685, 0.28941685, 0.28941685, 0.2937365 , 0.2937365 ,\n",
       "       0.29589633, 0.29589633, 0.29589633, 0.29589633, 0.29589633,\n",
       "       0.34341253, 0.34557235, 0.34557235, 0.34557235, 0.34557235,\n",
       "       0.34773218, 0.34773218, 0.34773218, 0.34989201, 0.34989201,\n",
       "       0.34989201, 0.34989201, 0.35421166, 0.35421166, 0.35421166,\n",
       "       0.41036717, 0.41036717, 0.412527  , 0.412527  , 0.412527  ,\n",
       "       0.412527  , 0.412527  , 0.412527  , 0.412527  , 0.412527  ,\n",
       "       0.41468683, 0.41684665, 0.41684665, 0.42116631, 0.42332613,\n",
       "       0.42332613, 0.42332613, 0.42332613, 0.42332613, 0.42332613,\n",
       "       0.42332613, 0.50323974, 0.50323974, 0.5075594 , 0.5075594 ,\n",
       "       0.5075594 , 0.5075594 , 0.50971922, 0.50971922, 0.50971922,\n",
       "       0.51187905, 0.51187905, 0.51403888, 0.5161987 , 0.5161987 ,\n",
       "       0.5161987 , 0.5161987 , 0.5161987 , 0.51835853, 0.51835853,\n",
       "       0.51835853, 0.51835853, 0.52051836, 0.52483801, 0.52699784,\n",
       "       0.52699784, 0.53347732, 0.53347732, 0.53347732, 0.53347732,\n",
       "       0.61339093, 0.61339093, 0.61339093, 0.61339093, 0.61555076,\n",
       "       0.61555076, 0.61555076, 0.61555076, 0.61555076, 0.61555076,\n",
       "       0.61555076, 0.61987041, 0.61987041, 0.61987041, 0.61987041,\n",
       "       0.61987041, 0.61987041, 0.61987041, 0.61987041, 0.62419006,\n",
       "       0.62419006, 0.62419006, 0.62419006, 0.62419006, 0.62419006,\n",
       "       0.62419006, 0.62419006, 0.62419006, 1.        ])"
      ]
     },
     "execution_count": 19,
     "metadata": {},
     "output_type": "execute_result"
    }
   ],
   "source": [
    "tpr2"
   ]
  },
  {
   "cell_type": "code",
   "execution_count": 20,
   "metadata": {},
   "outputs": [
    {
     "data": {
      "text/plain": [
       "array([2.        , 1.        , 0.96666667, 0.9       , 0.825     ,\n",
       "       0.8       , 0.775     , 0.76666667, 0.74166667, 0.725     ,\n",
       "       0.71666667, 0.7       , 0.65      , 0.60833333, 0.6       ,\n",
       "       0.56666667, 0.56547619, 0.55833333, 0.55      , 0.54166667,\n",
       "       0.53333333, 0.525     , 0.505     , 0.5       , 0.49666667,\n",
       "       0.48055556, 0.46666667, 0.45714286, 0.45      , 0.44333333,\n",
       "       0.44166667, 0.43690476, 0.43333333, 0.43333333, 0.40833333,\n",
       "       0.4       , 0.38      , 0.375     , 0.37357143, 0.36666667,\n",
       "       0.36619048, 0.36166667, 0.35342033, 0.35      , 0.34166667,\n",
       "       0.33333333, 0.325     , 0.31380952, 0.30964286, 0.3075    ,\n",
       "       0.3       , 0.28      , 0.275     , 0.27101954, 0.26357143,\n",
       "       0.26061688, 0.26      , 0.25833333, 0.25666667, 0.25666667,\n",
       "       0.24619048, 0.245     , 0.23333333, 0.23333333, 0.22888889,\n",
       "       0.22611111, 0.21666667, 0.2125    , 0.20811688, 0.20547619,\n",
       "       0.20333333, 0.2       , 0.19857143, 0.195     , 0.1895671 ,\n",
       "       0.18333333, 0.18333333, 0.18      , 0.17826118, 0.17666667,\n",
       "       0.175     , 0.16666667, 0.15202381, 0.15      , 0.15      ,\n",
       "       0.14857143, 0.14333333, 0.13666667, 0.13333333, 0.12935287,\n",
       "       0.12619048, 0.125     , 0.12333333, 0.12261905, 0.121829  ,\n",
       "       0.12      , 0.11763278, 0.11666667, 0.11412449, 0.11285714,\n",
       "       0.1       , 0.09166667, 0.09049423, 0.08428571, 0.08333333,\n",
       "       0.075     , 0.07333333, 0.06666667, 0.06600941, 0.06      ,\n",
       "       0.05714286, 0.05      , 0.04      , 0.03333333, 0.03      ,\n",
       "       0.02857143, 0.025     , 0.02222222, 0.02099392, 0.02022972,\n",
       "       0.02      , 0.01818182, 0.01692006, 0.01666667, 0.01428571,\n",
       "       0.0125    , 0.01      , 0.00238095, 0.        ])"
      ]
     },
     "execution_count": 20,
     "metadata": {},
     "output_type": "execute_result"
    }
   ],
   "source": [
    "thresholds2"
   ]
  },
  {
   "cell_type": "code",
   "execution_count": 21,
   "metadata": {},
   "outputs": [
    {
     "data": {
      "text/plain": [
       "0.7769242635624064"
      ]
     },
     "execution_count": 21,
     "metadata": {},
     "output_type": "execute_result"
    }
   ],
   "source": [
    "roc_auc2 = auc(fpr2, tpr2)\n",
    "roc_auc2"
   ]
  },
  {
   "cell_type": "markdown",
   "metadata": {},
   "source": [
    "### Plot"
   ]
  },
  {
   "cell_type": "code",
   "execution_count": 22,
   "metadata": {},
   "outputs": [
    {
     "data": {
      "image/png": "[encoded data removed]",
      "text/plain": [
       "<Figure size 432x288 with 1 Axes>"
      ]
     },
     "metadata": {
      "needs_background": "light"
     },
     "output_type": "display_data"
    }
   ],
   "source": [
    "plt.figure()\n",
    "lw = 2\n",
    "plt.title('Receiver Operating Characteristic')\n",
    "plt.plot(fpr, tpr, color='darkorange',\n",
    "         lw=lw, label='Logistic Regression ROC (area = %0.2f)' % roc_auc)\n",
    "plt.plot(fpr2, tpr2, color='green',\n",
    "         lw=lw, linestyle=':', label='Random Forest ROC (area = %0.2f)' % roc_auc2)\n",
    "plt.legend(loc = 'lower right')\n",
    "plt.plot([0, 1], [0, 1], lw=lw, linestyle='--')\n",
    "plt.xlim([0.0, 1.0])\n",
    "plt.ylim([0.0, 1.05])\n",
    "plt.xlabel('False Positive Rate')\n",
    "plt.ylabel('True Positive Rate')\n",
    "plt.show()"
   ]
  },
  {
   "cell_type": "code",
   "execution_count": null,
   "metadata": {},
   "outputs": [],
   "source": []
  }
 ],
 "metadata": {
  "kernelspec": {
   "display_name": "Python 3",
   "language": "python",
   "name": "python3"
  },
  "language_info": {
   "codemirror_mode": {
    "name": "ipython",
    "version": 3
   },
   "file_extension": ".py",
   "mimetype": "text/x-python",
   "name": "python",
   "nbconvert_exporter": "python",
   "pygments_lexer": "ipython3",
   "version": "3.7.3"
  }
 },
 "nbformat": 4,
 "nbformat_minor": 2
}
