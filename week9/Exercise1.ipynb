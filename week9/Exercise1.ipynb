{
 "cells": [
  {
   "cell_type": "code",
   "execution_count": 1,
   "metadata": {},
   "outputs": [],
   "source": [
    "import pandas as pd\n",
    "import numpy as np\n",
    "import matplotlib.pyplot as plt\n",
    "from sklearn.metrics import roc_curve, auc, roc_auc_score\n",
    "%matplotlib inline"
   ]
  },
  {
   "cell_type": "code",
   "execution_count": 2,
   "metadata": {},
   "outputs": [],
   "source": [
    "import warnings\n",
    "warnings.filterwarnings(\"ignore\")"
   ]
  },
  {
   "cell_type": "code",
   "execution_count": 3,
   "metadata": {},
   "outputs": [],
   "source": [
    "import glob"
   ]
  },
  {
   "cell_type": "code",
   "execution_count": 4,
   "metadata": {},
   "outputs": [
    {
     "data": {
      "text/html": [
       "<div>\n",
       "<style scoped>\n",
       "    .dataframe tbody tr th:only-of-type {\n",
       "        vertical-align: middle;\n",
       "    }\n",
       "\n",
       "    .dataframe tbody tr th {\n",
       "        vertical-align: top;\n",
       "    }\n",
       "\n",
       "    .dataframe thead th {\n",
       "        text-align: right;\n",
       "    }\n",
       "</style>\n",
       "<table border=\"1\" class=\"dataframe\">\n",
       "  <thead>\n",
       "    <tr style=\"text-align: right;\">\n",
       "      <th></th>\n",
       "      <th>basket</th>\n",
       "      <th>returnLabel</th>\n",
       "      <th>totalAmount</th>\n",
       "      <th>transactionId</th>\n",
       "      <th>zipCode</th>\n",
       "    </tr>\n",
       "  </thead>\n",
       "  <tbody>\n",
       "    <tr>\n",
       "      <th>0</th>\n",
       "      <td>[3, 1]</td>\n",
       "      <td>0</td>\n",
       "      <td>106</td>\n",
       "      <td>3520406327</td>\n",
       "      <td>7667</td>\n",
       "    </tr>\n",
       "    <tr>\n",
       "      <th>1</th>\n",
       "      <td>[1]</td>\n",
       "      <td>0</td>\n",
       "      <td>50</td>\n",
       "      <td>6030070379</td>\n",
       "      <td>7647</td>\n",
       "    </tr>\n",
       "    <tr>\n",
       "      <th>2</th>\n",
       "      <td>[1, 1, 5, 4, 1]</td>\n",
       "      <td>0</td>\n",
       "      <td>175</td>\n",
       "      <td>6579182382</td>\n",
       "      <td>2633</td>\n",
       "    </tr>\n",
       "    <tr>\n",
       "      <th>3</th>\n",
       "      <td>[1, 2, 0, 1]</td>\n",
       "      <td>0</td>\n",
       "      <td>272</td>\n",
       "      <td>2779338441</td>\n",
       "      <td>4309</td>\n",
       "    </tr>\n",
       "    <tr>\n",
       "      <th>4</th>\n",
       "      <td>[2]</td>\n",
       "      <td>0</td>\n",
       "      <td>14</td>\n",
       "      <td>3198368336</td>\n",
       "      <td>4659</td>\n",
       "    </tr>\n",
       "  </tbody>\n",
       "</table>\n",
       "</div>"
      ],
      "text/plain": [
       "            basket  returnLabel  totalAmount  transactionId  zipCode\n",
       "0           [3, 1]            0          106     3520406327     7667\n",
       "1              [1]            0           50     6030070379     7647\n",
       "2  [1, 1, 5, 4, 1]            0          175     6579182382     2633\n",
       "3     [1, 2, 0, 1]            0          272     2779338441     4309\n",
       "4              [2]            0           14     3198368336     4659"
      ]
     },
     "execution_count": 4,
     "metadata": {},
     "output_type": "execute_result"
    }
   ],
   "source": [
    "data = []\n",
    "list = [pd.read_json(filename, lines=True) for filename in glob.glob(\"../week4/data/return-data/*.txt\")]\n",
    "df = pd.concat(list, axis=0)\n",
    "df.head()"
   ]
  },
  {
   "cell_type": "code",
   "execution_count": 5,
   "metadata": {},
   "outputs": [
    {
     "data": {
      "text/html": [
       "<div>\n",
       "<style scoped>\n",
       "    .dataframe tbody tr th:only-of-type {\n",
       "        vertical-align: middle;\n",
       "    }\n",
       "\n",
       "    .dataframe tbody tr th {\n",
       "        vertical-align: top;\n",
       "    }\n",
       "\n",
       "    .dataframe thead th {\n",
       "        text-align: right;\n",
       "    }\n",
       "</style>\n",
       "<table border=\"1\" class=\"dataframe\">\n",
       "  <thead>\n",
       "    <tr style=\"text-align: right;\">\n",
       "      <th></th>\n",
       "      <th>basket</th>\n",
       "      <th>returnLabel</th>\n",
       "      <th>totalAmount</th>\n",
       "    </tr>\n",
       "  </thead>\n",
       "  <tbody>\n",
       "    <tr>\n",
       "      <th>0</th>\n",
       "      <td>[3, 1]</td>\n",
       "      <td>0</td>\n",
       "      <td>106</td>\n",
       "    </tr>\n",
       "    <tr>\n",
       "      <th>1</th>\n",
       "      <td>[1]</td>\n",
       "      <td>0</td>\n",
       "      <td>50</td>\n",
       "    </tr>\n",
       "    <tr>\n",
       "      <th>2</th>\n",
       "      <td>[1, 1, 5, 4, 1]</td>\n",
       "      <td>0</td>\n",
       "      <td>175</td>\n",
       "    </tr>\n",
       "    <tr>\n",
       "      <th>3</th>\n",
       "      <td>[1, 2, 0, 1]</td>\n",
       "      <td>0</td>\n",
       "      <td>272</td>\n",
       "    </tr>\n",
       "    <tr>\n",
       "      <th>4</th>\n",
       "      <td>[2]</td>\n",
       "      <td>0</td>\n",
       "      <td>14</td>\n",
       "    </tr>\n",
       "  </tbody>\n",
       "</table>\n",
       "</div>"
      ],
      "text/plain": [
       "            basket  returnLabel  totalAmount\n",
       "0           [3, 1]            0          106\n",
       "1              [1]            0           50\n",
       "2  [1, 1, 5, 4, 1]            0          175\n",
       "3     [1, 2, 0, 1]            0          272\n",
       "4              [2]            0           14"
      ]
     },
     "execution_count": 5,
     "metadata": {},
     "output_type": "execute_result"
    }
   ],
   "source": [
    "df.drop(['transactionId','zipCode'],axis=1,inplace=True)\n",
    "df.head()"
   ]
  },
  {
   "cell_type": "code",
   "execution_count": 6,
   "metadata": {
    "scrolled": true
   },
   "outputs": [
    {
     "data": {
      "text/html": [
       "<div>\n",
       "<style scoped>\n",
       "    .dataframe tbody tr th:only-of-type {\n",
       "        vertical-align: middle;\n",
       "    }\n",
       "\n",
       "    .dataframe tbody tr th {\n",
       "        vertical-align: top;\n",
       "    }\n",
       "\n",
       "    .dataframe thead th {\n",
       "        text-align: right;\n",
       "    }\n",
       "</style>\n",
       "<table border=\"1\" class=\"dataframe\">\n",
       "  <thead>\n",
       "    <tr style=\"text-align: right;\">\n",
       "      <th></th>\n",
       "      <th>returnLabel</th>\n",
       "      <th>totalAmount</th>\n",
       "      <th>c_0</th>\n",
       "      <th>c_1</th>\n",
       "      <th>c_2</th>\n",
       "      <th>c_3</th>\n",
       "      <th>c_4</th>\n",
       "      <th>c_5</th>\n",
       "    </tr>\n",
       "  </thead>\n",
       "  <tbody>\n",
       "    <tr>\n",
       "      <th>0</th>\n",
       "      <td>0</td>\n",
       "      <td>106</td>\n",
       "      <td>0</td>\n",
       "      <td>1</td>\n",
       "      <td>0</td>\n",
       "      <td>1</td>\n",
       "      <td>0</td>\n",
       "      <td>0</td>\n",
       "    </tr>\n",
       "    <tr>\n",
       "      <th>1</th>\n",
       "      <td>0</td>\n",
       "      <td>50</td>\n",
       "      <td>0</td>\n",
       "      <td>1</td>\n",
       "      <td>0</td>\n",
       "      <td>0</td>\n",
       "      <td>0</td>\n",
       "      <td>0</td>\n",
       "    </tr>\n",
       "    <tr>\n",
       "      <th>2</th>\n",
       "      <td>0</td>\n",
       "      <td>175</td>\n",
       "      <td>0</td>\n",
       "      <td>3</td>\n",
       "      <td>0</td>\n",
       "      <td>0</td>\n",
       "      <td>1</td>\n",
       "      <td>1</td>\n",
       "    </tr>\n",
       "    <tr>\n",
       "      <th>3</th>\n",
       "      <td>0</td>\n",
       "      <td>272</td>\n",
       "      <td>1</td>\n",
       "      <td>2</td>\n",
       "      <td>1</td>\n",
       "      <td>0</td>\n",
       "      <td>0</td>\n",
       "      <td>0</td>\n",
       "    </tr>\n",
       "    <tr>\n",
       "      <th>4</th>\n",
       "      <td>0</td>\n",
       "      <td>14</td>\n",
       "      <td>0</td>\n",
       "      <td>0</td>\n",
       "      <td>1</td>\n",
       "      <td>0</td>\n",
       "      <td>0</td>\n",
       "      <td>0</td>\n",
       "    </tr>\n",
       "  </tbody>\n",
       "</table>\n",
       "</div>"
      ],
      "text/plain": [
       "   returnLabel  totalAmount  c_0  c_1  c_2  c_3  c_4  c_5\n",
       "0            0          106    0    1    0    1    0    0\n",
       "1            0           50    0    1    0    0    0    0\n",
       "2            0          175    0    3    0    0    1    1\n",
       "3            0          272    1    2    1    0    0    0\n",
       "4            0           14    0    0    1    0    0    0"
      ]
     },
     "execution_count": 6,
     "metadata": {},
     "output_type": "execute_result"
    }
   ],
   "source": [
    "def categories(c, value):\n",
    "    return c.count(value)\n",
    "\n",
    "df['c_0'] = df['basket'].apply(lambda x: categories(x, 0))\n",
    "df['c_1'] = df['basket'].apply(lambda x: categories(x, 1))\n",
    "df['c_2'] = df['basket'].apply(lambda x: categories(x, 2))\n",
    "df['c_3'] = df['basket'].apply(lambda x: categories(x, 3))\n",
    "df['c_4'] = df['basket'].apply(lambda x: categories(x, 4))\n",
    "df['c_5'] = df['basket'].apply(lambda x: categories(x, 5))\n",
    "\n",
    "df.drop(['basket'],axis=1,inplace=True)\n",
    "\n",
    "df.head()"
   ]
  },
  {
   "cell_type": "code",
   "execution_count": 7,
   "metadata": {},
   "outputs": [],
   "source": [
    "from sklearn.model_selection import train_test_split\n",
    "\n",
    "X = df.drop(['returnLabel'],axis=1)\n",
    "y = df['returnLabel']\n",
    "\n",
    "X_train, X_test, y_train, y_test = train_test_split(X, y, test_size=0.50,random_state=0)"
   ]
  },
  {
   "cell_type": "markdown",
   "metadata": {},
   "source": [
    "## Logistic Regression"
   ]
  },
  {
   "cell_type": "code",
   "execution_count": 8,
   "metadata": {},
   "outputs": [
    {
     "data": {
      "text/plain": [
       "LogisticRegression(C=1.0, class_weight=None, dual=False, fit_intercept=True,\n",
       "          intercept_scaling=1, max_iter=100, multi_class='warn',\n",
       "          n_jobs=None, penalty='l2', random_state=None, solver='warn',\n",
       "          tol=0.0001, verbose=0, warm_start=False)"
      ]
     },
     "execution_count": 8,
     "metadata": {},
     "output_type": "execute_result"
    }
   ],
   "source": [
    "from sklearn.linear_model import LogisticRegression\n",
    "\n",
    "logmodel = LogisticRegression()\n",
    "logmodel.fit(X_train,y_train)"
   ]
  },
  {
   "cell_type": "code",
   "execution_count": 9,
   "metadata": {},
   "outputs": [],
   "source": [
    "logmodelpredictions = logmodel.predict(X_test)\n",
    "logmodelprobabilities = logmodel.predict_proba(X_test)"
   ]
  },
  {
   "cell_type": "markdown",
   "metadata": {},
   "source": [
    "## Random Forest"
   ]
  },
  {
   "cell_type": "code",
   "execution_count": 10,
   "metadata": {},
   "outputs": [
    {
     "data": {
      "text/plain": [
       "RandomForestClassifier(bootstrap=True, class_weight=None, criterion='gini',\n",
       "            max_depth=None, max_features='auto', max_leaf_nodes=None,\n",
       "            min_impurity_decrease=0.0, min_impurity_split=None,\n",
       "            min_samples_leaf=1, min_samples_split=2,\n",
       "            min_weight_fraction_leaf=0.0, n_estimators=10, n_jobs=None,\n",
       "            oob_score=False, random_state=None, verbose=0,\n",
       "            warm_start=False)"
      ]
     },
     "execution_count": 10,
     "metadata": {},
     "output_type": "execute_result"
    }
   ],
   "source": [
    "from sklearn.ensemble import RandomForestClassifier\n",
    "\n",
    "forest = RandomForestClassifier()\n",
    "forest.fit(X_train,y_train)"
   ]
  },
  {
   "cell_type": "code",
   "execution_count": 11,
   "metadata": {},
   "outputs": [],
   "source": [
    "forestpredictions = forest.predict(X_test)\n",
    "forestprobabilities = forest.predict_proba(X_test)"
   ]
  },
  {
   "cell_type": "markdown",
   "metadata": {},
   "source": [
    "## ROC curve (predicitons)"
   ]
  },
  {
   "cell_type": "markdown",
   "metadata": {},
   "source": [
    "### Logistic Regression"
   ]
  },
  {
   "cell_type": "code",
   "execution_count": 12,
   "metadata": {},
   "outputs": [],
   "source": [
    "fpr, tpr, thresholds = roc_curve(y_test, logmodelpredictions)"
   ]
  },
  {
   "cell_type": "code",
   "execution_count": 13,
   "metadata": {},
   "outputs": [
    {
     "data": {
      "text/plain": [
       "array([0.        , 0.00332513, 1.        ])"
      ]
     },
     "execution_count": 13,
     "metadata": {},
     "output_type": "execute_result"
    }
   ],
   "source": [
    "fpr"
   ]
  },
  {
   "cell_type": "code",
   "execution_count": 14,
   "metadata": {},
   "outputs": [
    {
     "data": {
      "text/plain": [
       "array([0.        , 0.23326134, 1.        ])"
      ]
     },
     "execution_count": 14,
     "metadata": {},
     "output_type": "execute_result"
    }
   ],
   "source": [
    "tpr"
   ]
  },
  {
   "cell_type": "code",
   "execution_count": 15,
   "metadata": {},
   "outputs": [
    {
     "data": {
      "text/plain": [
       "array([2, 1, 0], dtype=int64)"
      ]
     },
     "execution_count": 15,
     "metadata": {},
     "output_type": "execute_result"
    }
   ],
   "source": [
    "thresholds"
   ]
  },
  {
   "cell_type": "code",
   "execution_count": 16,
   "metadata": {},
   "outputs": [
    {
     "data": {
      "text/plain": [
       "0.6149681038750923"
      ]
     },
     "execution_count": 16,
     "metadata": {},
     "output_type": "execute_result"
    }
   ],
   "source": [
    "roc_auc = auc(fpr, tpr)\n",
    "roc_auc"
   ]
  },
  {
   "cell_type": "markdown",
   "metadata": {},
   "source": [
    "### Random Forest"
   ]
  },
  {
   "cell_type": "code",
   "execution_count": 17,
   "metadata": {},
   "outputs": [],
   "source": [
    "fpr2, tpr2, thresholds2 = roc_curve(y_test, forestpredictions)"
   ]
  },
  {
   "cell_type": "code",
   "execution_count": 18,
   "metadata": {},
   "outputs": [
    {
     "data": {
      "text/plain": [
       "array([0.       , 0.0100419, 1.       ])"
      ]
     },
     "execution_count": 18,
     "metadata": {},
     "output_type": "execute_result"
    }
   ],
   "source": [
    "fpr2"
   ]
  },
  {
   "cell_type": "code",
   "execution_count": 19,
   "metadata": {},
   "outputs": [
    {
     "data": {
      "text/plain": [
       "array([0.        , 0.23758099, 1.        ])"
      ]
     },
     "execution_count": 19,
     "metadata": {},
     "output_type": "execute_result"
    }
   ],
   "source": [
    "tpr2"
   ]
  },
  {
   "cell_type": "code",
   "execution_count": 20,
   "metadata": {},
   "outputs": [
    {
     "data": {
      "text/plain": [
       "array([2, 1, 0], dtype=int64)"
      ]
     },
     "execution_count": 20,
     "metadata": {},
     "output_type": "execute_result"
    }
   ],
   "source": [
    "thresholds2"
   ]
  },
  {
   "cell_type": "code",
   "execution_count": 21,
   "metadata": {},
   "outputs": [
    {
     "data": {
      "text/plain": [
       "0.6137695484328003"
      ]
     },
     "execution_count": 21,
     "metadata": {},
     "output_type": "execute_result"
    }
   ],
   "source": [
    "roc_auc2 = auc(fpr2, tpr2)\n",
    "roc_auc2"
   ]
  },
  {
   "cell_type": "markdown",
   "metadata": {},
   "source": [
    "### Plot"
   ]
  },
  {
   "cell_type": "code",
   "execution_count": 22,
   "metadata": {},
   "outputs": [
    {
     "data": {
      "image/png": "[encoded data removed]",
      "text/plain": [
       "<Figure size 432x288 with 1 Axes>"
      ]
     },
     "metadata": {
      "needs_background": "light"
     },
     "output_type": "display_data"
    }
   ],
   "source": [
    "plt.figure()\n",
    "lw = 2\n",
    "plt.title('Receiver Operating Characteristic')\n",
    "plt.plot(fpr, tpr, color='darkorange',\n",
    "         lw=lw, label='Logistic Regression ROC (area = %0.2f)' % roc_auc)\n",
    "plt.plot(fpr2, tpr2, color='green',\n",
    "         lw=lw, linestyle=':', label='Random Forest ROC (area = %0.2f)' % roc_auc2)\n",
    "plt.legend(loc = 'lower right')\n",
    "plt.plot([0, 1], [0, 1], lw=lw, linestyle='--')\n",
    "plt.xlim([0.0, 1.0])\n",
    "plt.ylim([0.0, 1.05])\n",
    "plt.xlabel('False Positive Rate')\n",
    "plt.ylabel('True Positive Rate')\n",
    "plt.show()"
   ]
  },
  {
   "cell_type": "markdown",
   "metadata": {},
   "source": [
    "## ROC curve (probabilities)"
   ]
  },
  {
   "cell_type": "markdown",
   "metadata": {},
   "source": [
    "### Logistic Regression"
   ]
  },
  {
   "cell_type": "code",
   "execution_count": 23,
   "metadata": {},
   "outputs": [],
   "source": [
    "fpr, tpr, thresholds = roc_curve(y_test, logmodelprobabilities[:, 1])"
   ]
  },
  {
   "cell_type": "code",
   "execution_count": 24,
   "metadata": {},
   "outputs": [
    {
     "data": {
      "text/plain": [
       "array([0.        , 0.        , 0.        , ..., 0.99514531, 0.99527831,\n",
       "       1.        ])"
      ]
     },
     "execution_count": 24,
     "metadata": {},
     "output_type": "execute_result"
    }
   ],
   "source": [
    "fpr"
   ]
  },
  {
   "cell_type": "code",
   "execution_count": 25,
   "metadata": {},
   "outputs": [
    {
     "data": {
      "text/plain": [
       "array([0.        , 0.00215983, 0.07991361, ..., 1.        , 1.        ,\n",
       "       1.        ])"
      ]
     },
     "execution_count": 25,
     "metadata": {},
     "output_type": "execute_result"
    }
   ],
   "source": [
    "tpr"
   ]
  },
  {
   "cell_type": "code",
   "execution_count": 26,
   "metadata": {},
   "outputs": [
    {
     "data": {
      "text/plain": [
       "array([1.99840318e+00, 9.98403176e-01, 8.80900442e-01, ...,\n",
       "       6.49952710e-10, 6.44950908e-10, 3.75548711e-12])"
      ]
     },
     "execution_count": 26,
     "metadata": {},
     "output_type": "execute_result"
    }
   ],
   "source": [
    "thresholds"
   ]
  },
  {
   "cell_type": "code",
   "execution_count": 27,
   "metadata": {},
   "outputs": [
    {
     "data": {
      "text/plain": [
       "0.936785015967094"
      ]
     },
     "execution_count": 27,
     "metadata": {},
     "output_type": "execute_result"
    }
   ],
   "source": [
    "roc_auc = auc(fpr, tpr)\n",
    "roc_auc"
   ]
  },
  {
   "cell_type": "markdown",
   "metadata": {},
   "source": [
    "### Random Forest"
   ]
  },
  {
   "cell_type": "code",
   "execution_count": 28,
   "metadata": {},
   "outputs": [],
   "source": [
    "fpr2, tpr2, thresholds2 = roc_curve(y_test, forestprobabilities[:, 1])"
   ]
  },
  {
   "cell_type": "code",
   "execution_count": 29,
   "metadata": {},
   "outputs": [
    {
     "data": {
      "text/plain": [
       "array([0.00000000e+00, 1.33005254e-04, 1.33005254e-04, 9.97539403e-04,\n",
       "       1.19704728e-03, 1.33005254e-03, 2.59360245e-03, 2.72660770e-03,\n",
       "       2.72660770e-03, 2.79311033e-03, 2.92611558e-03, 2.99261821e-03,\n",
       "       3.05912084e-03, 5.71922591e-03, 5.98523642e-03, 9.24386513e-03,\n",
       "       9.31036776e-03, 9.50987564e-03, 9.57637827e-03, 9.77588615e-03,\n",
       "       1.00418967e-02, 1.33005254e-02, 1.38325464e-02, 1.39655516e-02,\n",
       "       1.44310700e-02, 1.45640753e-02, 1.47635832e-02, 1.48300858e-02,\n",
       "       1.50295937e-02, 1.50960963e-02, 1.54951121e-02, 1.55616147e-02,\n",
       "       1.56946199e-02, 1.58276252e-02, 1.60936357e-02, 2.10813327e-02,\n",
       "       2.16133537e-02, 2.20123695e-02, 2.22118774e-02, 2.23448826e-02,\n",
       "       2.24113852e-02, 2.24778879e-02, 2.24778879e-02, 2.27438984e-02,\n",
       "       2.28104010e-02, 2.29434063e-02, 2.30099089e-02, 2.32759194e-02,\n",
       "       2.34089247e-02, 2.36084325e-02, 2.36749352e-02, 2.38079404e-02,\n",
       "       2.93276584e-02, 2.94606637e-02, 2.95271663e-02, 2.97266742e-02,\n",
       "       2.98596795e-02, 3.01256900e-02, 3.03251978e-02, 3.04582031e-02,\n",
       "       3.05247057e-02, 3.10567267e-02, 3.11232294e-02, 3.15887478e-02,\n",
       "       3.17217530e-02, 3.21207688e-02, 3.23867793e-02, 3.26527898e-02,\n",
       "       3.27192924e-02, 3.27857950e-02, 3.30518055e-02, 3.32513134e-02,\n",
       "       3.35173239e-02, 3.39163397e-02, 4.72168651e-02, 4.73498703e-02,\n",
       "       4.75493782e-02, 4.76823835e-02, 4.77488861e-02, 4.80148966e-02,\n",
       "       4.82144045e-02, 4.83474097e-02, 4.84139123e-02, 4.84804150e-02,\n",
       "       4.88794307e-02, 4.92119439e-02, 4.96109596e-02, 4.98769701e-02,\n",
       "       5.02094833e-02, 5.02759859e-02, 5.06750017e-02, 5.07415043e-02,\n",
       "       5.08745095e-02, 5.11405201e-02, 5.12735253e-02, 5.16725411e-02,\n",
       "       5.19385516e-02, 5.23375673e-02, 5.25370752e-02, 5.26700805e-02,\n",
       "       5.29360910e-02, 5.31355989e-02, 5.35346146e-02, 5.36011172e-02,\n",
       "       5.37341225e-02, 8.49903571e-02, 8.53228703e-02, 8.54558755e-02,\n",
       "       8.56553834e-02, 8.57883886e-02, 8.61874044e-02, 8.62539070e-02,\n",
       "       8.67859280e-02, 8.72514464e-02, 8.74509543e-02, 8.75174569e-02,\n",
       "       8.98450489e-02, 9.01110594e-02, 9.04435725e-02, 9.06430804e-02,\n",
       "       9.07760857e-02, 9.13746093e-02, 9.17071224e-02, 9.21061382e-02,\n",
       "       9.46332380e-02, 9.66283168e-02, 9.97539403e-02, 1.00152956e-01,\n",
       "       1.00219459e-01, 1.00000000e+00])"
      ]
     },
     "execution_count": 29,
     "metadata": {},
     "output_type": "execute_result"
    }
   ],
   "source": [
    "fpr2"
   ]
  },
  {
   "cell_type": "code",
   "execution_count": 30,
   "metadata": {},
   "outputs": [
    {
     "data": {
      "text/plain": [
       "array([0.        , 0.0237581 , 0.02807775, 0.0712743 , 0.0712743 ,\n",
       "       0.07343413, 0.14470842, 0.14470842, 0.14686825, 0.14902808,\n",
       "       0.14902808, 0.14902808, 0.1511879 , 0.20086393, 0.20086393,\n",
       "       0.23542117, 0.23542117, 0.23542117, 0.23542117, 0.23542117,\n",
       "       0.23758099, 0.28077754, 0.28077754, 0.28077754, 0.28293737,\n",
       "       0.28725702, 0.28941685, 0.28941685, 0.29157667, 0.29157667,\n",
       "       0.29157667, 0.2937365 , 0.29589633, 0.29589633, 0.29589633,\n",
       "       0.33477322, 0.33693305, 0.33693305, 0.33693305, 0.33693305,\n",
       "       0.33693305, 0.33909287, 0.3412527 , 0.3412527 , 0.3412527 ,\n",
       "       0.3412527 , 0.34341253, 0.34341253, 0.34341253, 0.34341253,\n",
       "       0.34341253, 0.34341253, 0.412527  , 0.412527  , 0.412527  ,\n",
       "       0.412527  , 0.412527  , 0.41684665, 0.41684665, 0.41684665,\n",
       "       0.41684665, 0.41684665, 0.41684665, 0.41684665, 0.41684665,\n",
       "       0.41684665, 0.41684665, 0.41684665, 0.41684665, 0.41900648,\n",
       "       0.41900648, 0.42116631, 0.42116631, 0.42332613, 0.47732181,\n",
       "       0.47732181, 0.47732181, 0.47732181, 0.47732181, 0.47732181,\n",
       "       0.47732181, 0.47732181, 0.47948164, 0.47948164, 0.47948164,\n",
       "       0.48164147, 0.48164147, 0.4838013 , 0.4838013 , 0.4838013 ,\n",
       "       0.4838013 , 0.4838013 , 0.4838013 , 0.4838013 , 0.4838013 ,\n",
       "       0.4838013 , 0.48596112, 0.48596112, 0.48596112, 0.48596112,\n",
       "       0.49028078, 0.49028078, 0.49028078, 0.49028078, 0.4924406 ,\n",
       "       0.58315335, 0.58315335, 0.58315335, 0.58963283, 0.58963283,\n",
       "       0.58963283, 0.58963283, 0.59827214, 0.60043197, 0.60043197,\n",
       "       0.60043197, 0.60691145, 0.60691145, 0.60907127, 0.60907127,\n",
       "       0.60907127, 0.60907127, 0.60907127, 0.61339093, 0.61771058,\n",
       "       0.61771058, 0.61771058, 0.61771058, 0.61771058, 1.        ])"
      ]
     },
     "execution_count": 30,
     "metadata": {},
     "output_type": "execute_result"
    }
   ],
   "source": [
    "tpr2"
   ]
  },
  {
   "cell_type": "code",
   "execution_count": 31,
   "metadata": {},
   "outputs": [
    {
     "data": {
      "text/plain": [
       "array([2.        , 1.        , 0.95      , 0.9       , 0.83333333,\n",
       "       0.82166667, 0.8       , 0.79166667, 0.78333333, 0.775     ,\n",
       "       0.75      , 0.73333333, 0.725     , 0.7       , 0.61666667,\n",
       "       0.6       , 0.585     , 0.55      , 0.525     , 0.51666667,\n",
       "       0.51333333, 0.5       , 0.475     , 0.46666667, 0.46333333,\n",
       "       0.45833333, 0.45      , 0.44166667, 0.43333333, 0.425     ,\n",
       "       0.42359793, 0.42333333, 0.42      , 0.40666667, 0.40357143,\n",
       "       0.4       , 0.39166667, 0.38595238, 0.38095238, 0.36666667,\n",
       "       0.35333333, 0.35      , 0.33333333, 0.33166667, 0.33      ,\n",
       "       0.325     , 0.32333333, 0.32      , 0.31666667, 0.3102381 ,\n",
       "       0.30690476, 0.30632395, 0.3       , 0.29166667, 0.28333333,\n",
       "       0.26963203, 0.26666667, 0.265     , 0.26388889, 0.2630303 ,\n",
       "       0.25833333, 0.25583333, 0.25095238, 0.25      , 0.24583333,\n",
       "       0.24166667, 0.23333333, 0.23333333, 0.2325    , 0.22952381,\n",
       "       0.22      , 0.2152381 , 0.21166667, 0.20057692, 0.2       ,\n",
       "       0.2       , 0.18377345, 0.18333333, 0.18055556, 0.17623016,\n",
       "       0.175     , 0.16722222, 0.16666667, 0.15642857, 0.15607143,\n",
       "       0.15111111, 0.15024642, 0.15      , 0.14761905, 0.14694444,\n",
       "       0.14178571, 0.14      , 0.13666667, 0.13333333, 0.13111111,\n",
       "       0.12619048, 0.125     , 0.12168803, 0.12      , 0.11666667,\n",
       "       0.11      , 0.10833333, 0.10607143, 0.10289683, 0.1002381 ,\n",
       "       0.1       , 0.09968975, 0.09939394, 0.09861874, 0.08      ,\n",
       "       0.075     , 0.07142857, 0.06666667, 0.06345238, 0.06      ,\n",
       "       0.05833333, 0.05      , 0.04689426, 0.04663462, 0.04      ,\n",
       "       0.0375    , 0.03333333, 0.02857143, 0.025     , 0.0244627 ,\n",
       "       0.02022413, 0.02016547, 0.02      , 0.01111111, 0.        ])"
      ]
     },
     "execution_count": 31,
     "metadata": {},
     "output_type": "execute_result"
    }
   ],
   "source": [
    "thresholds2"
   ]
  },
  {
   "cell_type": "code",
   "execution_count": 32,
   "metadata": {},
   "outputs": [
    {
     "data": {
      "text/plain": [
       "0.7728678905926935"
      ]
     },
     "execution_count": 32,
     "metadata": {},
     "output_type": "execute_result"
    }
   ],
   "source": [
    "roc_auc2 = auc(fpr2, tpr2)\n",
    "roc_auc2"
   ]
  },
  {
   "cell_type": "markdown",
   "metadata": {},
   "source": [
    "### Plot"
   ]
  },
  {
   "cell_type": "code",
   "execution_count": 33,
   "metadata": {},
   "outputs": [
    {
     "data": {
      "image/png": "[encoded data removed]",
      "text/plain": [
       "<Figure size 432x288 with 1 Axes>"
      ]
     },
     "metadata": {
      "needs_background": "light"
     },
     "output_type": "display_data"
    }
   ],
   "source": [
    "plt.figure()\n",
    "lw = 2\n",
    "plt.title('Receiver Operating Characteristic')\n",
    "plt.plot(fpr, tpr, color='darkorange',\n",
    "         lw=lw, label='Logistic Regression ROC (area = %0.2f)' % roc_auc)\n",
    "plt.plot(fpr2, tpr2, color='green',\n",
    "         lw=lw, linestyle=':', label='Random Forest ROC (area = %0.2f)' % roc_auc2)\n",
    "plt.legend(loc = 'lower right')\n",
    "plt.plot([0, 1], [0, 1], lw=lw, linestyle='--')\n",
    "plt.xlim([0.0, 1.0])\n",
    "plt.ylim([0.0, 1.05])\n",
    "plt.xlabel('False Positive Rate')\n",
    "plt.ylabel('True Positive Rate')\n",
    "plt.show()"
   ]
  },
  {
   "cell_type": "code",
   "execution_count": null,
   "metadata": {},
   "outputs": [],
   "source": []
  }
 ],
 "metadata": {
  "kernelspec": {
   "display_name": "Python 3",
   "language": "python",
   "name": "python3"
  },
  "language_info": {
   "codemirror_mode": {
    "name": "ipython",
    "version": 3
   },
   "file_extension": ".py",
   "mimetype": "text/x-python",
   "name": "python",
   "nbconvert_exporter": "python",
   "pygments_lexer": "ipython3",
   "version": "3.7.3"
  }
 },
 "nbformat": 4,
 "nbformat_minor": 2
}
