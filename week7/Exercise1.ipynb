{
 "cells": [
  {
   "cell_type": "code",
   "execution_count": 1,
   "metadata": {},
   "outputs": [],
   "source": [
    "import pandas as pd\n",
    "import numpy as np\n",
    "%matplotlib inline"
   ]
  },
  {
   "cell_type": "code",
   "execution_count": 2,
   "metadata": {},
   "outputs": [],
   "source": [
    "import warnings\n",
    "warnings.filterwarnings(\"ignore\")"
   ]
  },
  {
   "cell_type": "code",
   "execution_count": 3,
   "metadata": {},
   "outputs": [],
   "source": [
    "import glob"
   ]
  },
  {
   "cell_type": "code",
   "execution_count": 4,
   "metadata": {},
   "outputs": [
    {
     "data": {
      "text/html": [
       "<div>\n",
       "<style scoped>\n",
       "    .dataframe tbody tr th:only-of-type {\n",
       "        vertical-align: middle;\n",
       "    }\n",
       "\n",
       "    .dataframe tbody tr th {\n",
       "        vertical-align: top;\n",
       "    }\n",
       "\n",
       "    .dataframe thead th {\n",
       "        text-align: right;\n",
       "    }\n",
       "</style>\n",
       "<table border=\"1\" class=\"dataframe\">\n",
       "  <thead>\n",
       "    <tr style=\"text-align: right;\">\n",
       "      <th></th>\n",
       "      <th>basket</th>\n",
       "      <th>returnLabel</th>\n",
       "      <th>totalAmount</th>\n",
       "      <th>transactionId</th>\n",
       "      <th>zipCode</th>\n",
       "    </tr>\n",
       "  </thead>\n",
       "  <tbody>\n",
       "    <tr>\n",
       "      <th>0</th>\n",
       "      <td>[3, 1]</td>\n",
       "      <td>0</td>\n",
       "      <td>106</td>\n",
       "      <td>3520406327</td>\n",
       "      <td>7667</td>\n",
       "    </tr>\n",
       "    <tr>\n",
       "      <th>1</th>\n",
       "      <td>[1]</td>\n",
       "      <td>0</td>\n",
       "      <td>50</td>\n",
       "      <td>6030070379</td>\n",
       "      <td>7647</td>\n",
       "    </tr>\n",
       "    <tr>\n",
       "      <th>2</th>\n",
       "      <td>[1, 1, 5, 4, 1]</td>\n",
       "      <td>0</td>\n",
       "      <td>175</td>\n",
       "      <td>6579182382</td>\n",
       "      <td>2633</td>\n",
       "    </tr>\n",
       "    <tr>\n",
       "      <th>3</th>\n",
       "      <td>[1, 2, 0, 1]</td>\n",
       "      <td>0</td>\n",
       "      <td>272</td>\n",
       "      <td>2779338441</td>\n",
       "      <td>4309</td>\n",
       "    </tr>\n",
       "    <tr>\n",
       "      <th>4</th>\n",
       "      <td>[2]</td>\n",
       "      <td>0</td>\n",
       "      <td>14</td>\n",
       "      <td>3198368336</td>\n",
       "      <td>4659</td>\n",
       "    </tr>\n",
       "  </tbody>\n",
       "</table>\n",
       "</div>"
      ],
      "text/plain": [
       "            basket  returnLabel  totalAmount  transactionId  zipCode\n",
       "0           [3, 1]            0          106     3520406327     7667\n",
       "1              [1]            0           50     6030070379     7647\n",
       "2  [1, 1, 5, 4, 1]            0          175     6579182382     2633\n",
       "3     [1, 2, 0, 1]            0          272     2779338441     4309\n",
       "4              [2]            0           14     3198368336     4659"
      ]
     },
     "execution_count": 4,
     "metadata": {},
     "output_type": "execute_result"
    }
   ],
   "source": [
    "data = []\n",
    "list = [pd.read_json(filename, lines=True) for filename in glob.glob(\"../week4/data/return-data/*.txt\")]\n",
    "df = pd.concat(list, axis=0)\n",
    "df.head()"
   ]
  },
  {
   "cell_type": "code",
   "execution_count": 5,
   "metadata": {},
   "outputs": [
    {
     "data": {
      "text/html": [
       "<div>\n",
       "<style scoped>\n",
       "    .dataframe tbody tr th:only-of-type {\n",
       "        vertical-align: middle;\n",
       "    }\n",
       "\n",
       "    .dataframe tbody tr th {\n",
       "        vertical-align: top;\n",
       "    }\n",
       "\n",
       "    .dataframe thead th {\n",
       "        text-align: right;\n",
       "    }\n",
       "</style>\n",
       "<table border=\"1\" class=\"dataframe\">\n",
       "  <thead>\n",
       "    <tr style=\"text-align: right;\">\n",
       "      <th></th>\n",
       "      <th>basket</th>\n",
       "      <th>returnLabel</th>\n",
       "      <th>totalAmount</th>\n",
       "    </tr>\n",
       "  </thead>\n",
       "  <tbody>\n",
       "    <tr>\n",
       "      <th>0</th>\n",
       "      <td>[3, 1]</td>\n",
       "      <td>0</td>\n",
       "      <td>106</td>\n",
       "    </tr>\n",
       "    <tr>\n",
       "      <th>1</th>\n",
       "      <td>[1]</td>\n",
       "      <td>0</td>\n",
       "      <td>50</td>\n",
       "    </tr>\n",
       "    <tr>\n",
       "      <th>2</th>\n",
       "      <td>[1, 1, 5, 4, 1]</td>\n",
       "      <td>0</td>\n",
       "      <td>175</td>\n",
       "    </tr>\n",
       "    <tr>\n",
       "      <th>3</th>\n",
       "      <td>[1, 2, 0, 1]</td>\n",
       "      <td>0</td>\n",
       "      <td>272</td>\n",
       "    </tr>\n",
       "    <tr>\n",
       "      <th>4</th>\n",
       "      <td>[2]</td>\n",
       "      <td>0</td>\n",
       "      <td>14</td>\n",
       "    </tr>\n",
       "  </tbody>\n",
       "</table>\n",
       "</div>"
      ],
      "text/plain": [
       "            basket  returnLabel  totalAmount\n",
       "0           [3, 1]            0          106\n",
       "1              [1]            0           50\n",
       "2  [1, 1, 5, 4, 1]            0          175\n",
       "3     [1, 2, 0, 1]            0          272\n",
       "4              [2]            0           14"
      ]
     },
     "execution_count": 5,
     "metadata": {},
     "output_type": "execute_result"
    }
   ],
   "source": [
    "df.drop(['transactionId','zipCode'],axis=1,inplace=True)\n",
    "df.head()"
   ]
  },
  {
   "cell_type": "code",
   "execution_count": 6,
   "metadata": {
    "scrolled": true
   },
   "outputs": [
    {
     "data": {
      "text/html": [
       "<div>\n",
       "<style scoped>\n",
       "    .dataframe tbody tr th:only-of-type {\n",
       "        vertical-align: middle;\n",
       "    }\n",
       "\n",
       "    .dataframe tbody tr th {\n",
       "        vertical-align: top;\n",
       "    }\n",
       "\n",
       "    .dataframe thead th {\n",
       "        text-align: right;\n",
       "    }\n",
       "</style>\n",
       "<table border=\"1\" class=\"dataframe\">\n",
       "  <thead>\n",
       "    <tr style=\"text-align: right;\">\n",
       "      <th></th>\n",
       "      <th>returnLabel</th>\n",
       "      <th>totalAmount</th>\n",
       "      <th>c_0</th>\n",
       "      <th>c_1</th>\n",
       "      <th>c_2</th>\n",
       "      <th>c_3</th>\n",
       "      <th>c_4</th>\n",
       "      <th>c_5</th>\n",
       "    </tr>\n",
       "  </thead>\n",
       "  <tbody>\n",
       "    <tr>\n",
       "      <th>0</th>\n",
       "      <td>0</td>\n",
       "      <td>106</td>\n",
       "      <td>0</td>\n",
       "      <td>1</td>\n",
       "      <td>0</td>\n",
       "      <td>1</td>\n",
       "      <td>0</td>\n",
       "      <td>0</td>\n",
       "    </tr>\n",
       "    <tr>\n",
       "      <th>1</th>\n",
       "      <td>0</td>\n",
       "      <td>50</td>\n",
       "      <td>0</td>\n",
       "      <td>1</td>\n",
       "      <td>0</td>\n",
       "      <td>0</td>\n",
       "      <td>0</td>\n",
       "      <td>0</td>\n",
       "    </tr>\n",
       "    <tr>\n",
       "      <th>2</th>\n",
       "      <td>0</td>\n",
       "      <td>175</td>\n",
       "      <td>0</td>\n",
       "      <td>3</td>\n",
       "      <td>0</td>\n",
       "      <td>0</td>\n",
       "      <td>1</td>\n",
       "      <td>1</td>\n",
       "    </tr>\n",
       "    <tr>\n",
       "      <th>3</th>\n",
       "      <td>0</td>\n",
       "      <td>272</td>\n",
       "      <td>1</td>\n",
       "      <td>2</td>\n",
       "      <td>1</td>\n",
       "      <td>0</td>\n",
       "      <td>0</td>\n",
       "      <td>0</td>\n",
       "    </tr>\n",
       "    <tr>\n",
       "      <th>4</th>\n",
       "      <td>0</td>\n",
       "      <td>14</td>\n",
       "      <td>0</td>\n",
       "      <td>0</td>\n",
       "      <td>1</td>\n",
       "      <td>0</td>\n",
       "      <td>0</td>\n",
       "      <td>0</td>\n",
       "    </tr>\n",
       "  </tbody>\n",
       "</table>\n",
       "</div>"
      ],
      "text/plain": [
       "   returnLabel  totalAmount  c_0  c_1  c_2  c_3  c_4  c_5\n",
       "0            0          106    0    1    0    1    0    0\n",
       "1            0           50    0    1    0    0    0    0\n",
       "2            0          175    0    3    0    0    1    1\n",
       "3            0          272    1    2    1    0    0    0\n",
       "4            0           14    0    0    1    0    0    0"
      ]
     },
     "execution_count": 6,
     "metadata": {},
     "output_type": "execute_result"
    }
   ],
   "source": [
    "def categories(c, value):\n",
    "    return c.count(value)\n",
    "\n",
    "df['c_0'] = df['basket'].apply(lambda x: categories(x, 0))\n",
    "df['c_1'] = df['basket'].apply(lambda x: categories(x, 1))\n",
    "df['c_2'] = df['basket'].apply(lambda x: categories(x, 2))\n",
    "df['c_3'] = df['basket'].apply(lambda x: categories(x, 3))\n",
    "df['c_4'] = df['basket'].apply(lambda x: categories(x, 4))\n",
    "df['c_5'] = df['basket'].apply(lambda x: categories(x, 5))\n",
    "\n",
    "df.drop(['basket'],axis=1,inplace=True)\n",
    "\n",
    "df.head()"
   ]
  },
  {
   "cell_type": "code",
   "execution_count": 7,
   "metadata": {},
   "outputs": [],
   "source": [
    "from sklearn import preprocessing\n",
    "\n",
    "def normalize(data, target):\n",
    "    norm = preprocessing.normalize(data, axis=0)\n",
    "    df_concat = np.concatenate((target, norm), axis=1)\n",
    "\n",
    "    return pd.DataFrame(df_concat)"
   ]
  },
  {
   "cell_type": "code",
   "execution_count": 8,
   "metadata": {},
   "outputs": [
    {
     "data": {
      "text/html": [
       "<div>\n",
       "<style scoped>\n",
       "    .dataframe tbody tr th:only-of-type {\n",
       "        vertical-align: middle;\n",
       "    }\n",
       "\n",
       "    .dataframe tbody tr th {\n",
       "        vertical-align: top;\n",
       "    }\n",
       "\n",
       "    .dataframe thead th {\n",
       "        text-align: right;\n",
       "    }\n",
       "</style>\n",
       "<table border=\"1\" class=\"dataframe\">\n",
       "  <thead>\n",
       "    <tr style=\"text-align: right;\">\n",
       "      <th></th>\n",
       "      <th>returnLabel</th>\n",
       "      <th>totalAmount</th>\n",
       "      <th>c_0</th>\n",
       "      <th>c_1</th>\n",
       "      <th>c_2</th>\n",
       "      <th>c_3</th>\n",
       "      <th>c_4</th>\n",
       "      <th>c_5</th>\n",
       "    </tr>\n",
       "  </thead>\n",
       "  <tbody>\n",
       "    <tr>\n",
       "      <th>0</th>\n",
       "      <td>0.0</td>\n",
       "      <td>0.001905</td>\n",
       "      <td>0.000000</td>\n",
       "      <td>0.004752</td>\n",
       "      <td>0.00000</td>\n",
       "      <td>0.004611</td>\n",
       "      <td>0.000000</td>\n",
       "      <td>0.00000</td>\n",
       "    </tr>\n",
       "    <tr>\n",
       "      <th>1</th>\n",
       "      <td>0.0</td>\n",
       "      <td>0.000899</td>\n",
       "      <td>0.000000</td>\n",
       "      <td>0.004752</td>\n",
       "      <td>0.00000</td>\n",
       "      <td>0.000000</td>\n",
       "      <td>0.000000</td>\n",
       "      <td>0.00000</td>\n",
       "    </tr>\n",
       "    <tr>\n",
       "      <th>2</th>\n",
       "      <td>0.0</td>\n",
       "      <td>0.003145</td>\n",
       "      <td>0.000000</td>\n",
       "      <td>0.014257</td>\n",
       "      <td>0.00000</td>\n",
       "      <td>0.000000</td>\n",
       "      <td>0.004447</td>\n",
       "      <td>0.00481</td>\n",
       "    </tr>\n",
       "    <tr>\n",
       "      <th>3</th>\n",
       "      <td>0.0</td>\n",
       "      <td>0.004889</td>\n",
       "      <td>0.004764</td>\n",
       "      <td>0.009505</td>\n",
       "      <td>0.00473</td>\n",
       "      <td>0.000000</td>\n",
       "      <td>0.000000</td>\n",
       "      <td>0.00000</td>\n",
       "    </tr>\n",
       "    <tr>\n",
       "      <th>4</th>\n",
       "      <td>0.0</td>\n",
       "      <td>0.000252</td>\n",
       "      <td>0.000000</td>\n",
       "      <td>0.000000</td>\n",
       "      <td>0.00473</td>\n",
       "      <td>0.000000</td>\n",
       "      <td>0.000000</td>\n",
       "      <td>0.00000</td>\n",
       "    </tr>\n",
       "  </tbody>\n",
       "</table>\n",
       "</div>"
      ],
      "text/plain": [
       "   returnLabel  totalAmount       c_0       c_1      c_2       c_3       c_4  \\\n",
       "0          0.0     0.001905  0.000000  0.004752  0.00000  0.004611  0.000000   \n",
       "1          0.0     0.000899  0.000000  0.004752  0.00000  0.000000  0.000000   \n",
       "2          0.0     0.003145  0.000000  0.014257  0.00000  0.000000  0.004447   \n",
       "3          0.0     0.004889  0.004764  0.009505  0.00473  0.000000  0.000000   \n",
       "4          0.0     0.000252  0.000000  0.000000  0.00473  0.000000  0.000000   \n",
       "\n",
       "       c_5  \n",
       "0  0.00000  \n",
       "1  0.00000  \n",
       "2  0.00481  \n",
       "3  0.00000  \n",
       "4  0.00000  "
      ]
     },
     "execution_count": 8,
     "metadata": {},
     "output_type": "execute_result"
    }
   ],
   "source": [
    "df_norm = normalize(df[['totalAmount', 'c_0', 'c_1', 'c_2', 'c_3', 'c_4', 'c_5']], df[['returnLabel']])\n",
    "df_norm.columns = ['returnLabel', 'totalAmount', 'c_0', 'c_1', 'c_2', 'c_3', 'c_4', 'c_5']\n",
    "df_norm.head()"
   ]
  },
  {
   "cell_type": "code",
   "execution_count": 9,
   "metadata": {},
   "outputs": [],
   "source": [
    "from sklearn.model_selection import train_test_split\n",
    "\n",
    "X = df_norm.drop(['returnLabel'],axis=1)\n",
    "y = df_norm['returnLabel']\n",
    "\n",
    "X_train, X_test, y_train, y_test = train_test_split(X, y, test_size=0.30,random_state=101)"
   ]
  },
  {
   "cell_type": "code",
   "execution_count": 10,
   "metadata": {
    "scrolled": true
   },
   "outputs": [
    {
     "data": {
      "text/plain": [
       "array([[0.01735141, 0.        , 0.01727801, ..., 0.00838886, 0.01651934,\n",
       "        0.01774224],\n",
       "       [0.01126205, 0.00871048, 0.        , ..., 0.00838886, 0.03303868,\n",
       "        0.01774224],\n",
       "       [0.00196431, 0.02613145, 0.00863901, ..., 0.00838886, 0.        ,\n",
       "        0.        ],\n",
       "       ...,\n",
       "       [0.01080371, 0.00871048, 0.01727801, ..., 0.00838886, 0.        ,\n",
       "        0.01774224],\n",
       "       [0.01735141, 0.01742097, 0.01727801, ..., 0.        , 0.00825967,\n",
       "        0.        ],\n",
       "       [0.00903583, 0.00871048, 0.00863901, ..., 0.        , 0.        ,\n",
       "        0.01774224]])"
      ]
     },
     "execution_count": 10,
     "metadata": {},
     "output_type": "execute_result"
    }
   ],
   "source": [
    "X_test_norm = preprocessing.normalize(X_test, axis=0)\n",
    "X_test_norm"
   ]
  },
  {
   "cell_type": "code",
   "execution_count": 11,
   "metadata": {},
   "outputs": [
    {
     "data": {
      "text/plain": [
       "array([[0.00092461, 0.        , 0.00569083, ..., 0.        , 0.        ,\n",
       "        0.        ],\n",
       "       [0.00146218, 0.        , 0.        , ..., 0.00551947, 0.        ,\n",
       "        0.        ],\n",
       "       [0.00021503, 0.        , 0.        , ..., 0.        , 0.        ,\n",
       "        0.        ],\n",
       "       ...,\n",
       "       [0.00894509, 0.01138258, 0.01138165, ..., 0.        , 0.01055589,\n",
       "        0.        ],\n",
       "       [0.0041285 , 0.00569129, 0.        , ..., 0.01103895, 0.        ,\n",
       "        0.        ],\n",
       "       [0.01182644, 0.        , 0.01138165, ..., 0.01103895, 0.01055589,\n",
       "        0.00572504]])"
      ]
     },
     "execution_count": 11,
     "metadata": {},
     "output_type": "execute_result"
    }
   ],
   "source": [
    "X_train_norm = preprocessing.normalize(X_train, axis=0)\n",
    "X_train_norm"
   ]
  },
  {
   "cell_type": "code",
   "execution_count": 12,
   "metadata": {},
   "outputs": [],
   "source": [
    "import math\n",
    "\n",
    "def euclideanDistance(feature1, feature2):\n",
    "    distance = 0\n",
    "    for i in range(len(feature1)):\n",
    "        distance += pow((feature1[i] - feature2[i]), 2)\n",
    "    return math.sqrt(distance)"
   ]
  },
  {
   "cell_type": "code",
   "execution_count": 13,
   "metadata": {},
   "outputs": [],
   "source": [
    "import operator\n",
    "\n",
    "def getNeighbors(trainset, testfeature, k):\n",
    "    distances = []\n",
    "    \n",
    "    length = len(X_test) - 1\n",
    "    for i in range(len(trainset)):\n",
    "        distance = euclideanDistance(testfeature, trainset[i])\n",
    "        distances.append((trainset[i], distance, i))\n",
    "    distances.sort(key=operator.itemgetter(1))\n",
    "    neighbors = []\n",
    "    for i in range(k):\n",
    "        neighbors.append(distances[i][2])\n",
    "    return neighbors"
   ]
  },
  {
   "cell_type": "code",
   "execution_count": 14,
   "metadata": {},
   "outputs": [],
   "source": [
    "def customNeighborClassifier(trainset, testset, predictions, k):\n",
    "    for i in range(len(testset)):\n",
    "        predictions.append(getNeighbors(trainset, testset[i], k))\n",
    "    return predictions"
   ]
  },
  {
   "cell_type": "code",
   "execution_count": null,
   "metadata": {
    "scrolled": true
   },
   "outputs": [],
   "source": [
    "predictions = []\n",
    "\n",
    "neighbor = customNeighborClassifier(X_train_norm, X_test_norm, predictions, 5)\n",
    "neighbor"
   ]
  },
  {
   "cell_type": "code",
   "execution_count": null,
   "metadata": {},
   "outputs": [],
   "source": []
  }
 ],
 "metadata": {
  "kernelspec": {
   "display_name": "Python 3",
   "language": "python",
   "name": "python3"
  },
  "language_info": {
   "codemirror_mode": {
    "name": "ipython",
    "version": 3
   },
   "file_extension": ".py",
   "mimetype": "text/x-python",
   "name": "python",
   "nbconvert_exporter": "python",
   "pygments_lexer": "ipython3",
   "version": "3.7.3"
  }
 },
 "nbformat": 4,
 "nbformat_minor": 2
}
