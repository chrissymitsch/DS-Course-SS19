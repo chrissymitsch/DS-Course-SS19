{
 "cells": [
  {
   "cell_type": "code",
   "execution_count": 1,
   "metadata": {},
   "outputs": [],
   "source": [
    "import pandas as pd\n",
    "import numpy as np"
   ]
  },
  {
   "cell_type": "code",
   "execution_count": 2,
   "metadata": {},
   "outputs": [],
   "source": [
    "df = pd.read_csv(\"../golf.csv\")"
   ]
  },
  {
   "cell_type": "code",
   "execution_count": 3,
   "metadata": {},
   "outputs": [
    {
     "data": {
      "text/html": [
       "<div>\n",
       "<style scoped>\n",
       "    .dataframe tbody tr th:only-of-type {\n",
       "        vertical-align: middle;\n",
       "    }\n",
       "\n",
       "    .dataframe tbody tr th {\n",
       "        vertical-align: top;\n",
       "    }\n",
       "\n",
       "    .dataframe thead th {\n",
       "        text-align: right;\n",
       "    }\n",
       "</style>\n",
       "<table border=\"1\" class=\"dataframe\">\n",
       "  <thead>\n",
       "    <tr style=\"text-align: right;\">\n",
       "      <th></th>\n",
       "      <th>Day</th>\n",
       "      <th>Temperature</th>\n",
       "      <th>Outlook</th>\n",
       "      <th>Humidity</th>\n",
       "      <th>Windy</th>\n",
       "      <th>Golf</th>\n",
       "    </tr>\n",
       "  </thead>\n",
       "  <tbody>\n",
       "    <tr>\n",
       "      <th>0</th>\n",
       "      <td>07-05</td>\n",
       "      <td>hot</td>\n",
       "      <td>sunny</td>\n",
       "      <td>high</td>\n",
       "      <td>False</td>\n",
       "      <td>no</td>\n",
       "    </tr>\n",
       "    <tr>\n",
       "      <th>1</th>\n",
       "      <td>07-06</td>\n",
       "      <td>hot</td>\n",
       "      <td>sunny</td>\n",
       "      <td>high</td>\n",
       "      <td>True</td>\n",
       "      <td>no</td>\n",
       "    </tr>\n",
       "    <tr>\n",
       "      <th>2</th>\n",
       "      <td>07-07</td>\n",
       "      <td>hot</td>\n",
       "      <td>overcast</td>\n",
       "      <td>high</td>\n",
       "      <td>False</td>\n",
       "      <td>yes</td>\n",
       "    </tr>\n",
       "    <tr>\n",
       "      <th>3</th>\n",
       "      <td>07-09</td>\n",
       "      <td>cool</td>\n",
       "      <td>rain</td>\n",
       "      <td>normal</td>\n",
       "      <td>False</td>\n",
       "      <td>yes</td>\n",
       "    </tr>\n",
       "    <tr>\n",
       "      <th>4</th>\n",
       "      <td>07-10</td>\n",
       "      <td>cool</td>\n",
       "      <td>overcast</td>\n",
       "      <td>normal</td>\n",
       "      <td>True</td>\n",
       "      <td>yes</td>\n",
       "    </tr>\n",
       "  </tbody>\n",
       "</table>\n",
       "</div>"
      ],
      "text/plain": [
       "     Day Temperature   Outlook Humidity  Windy Golf\n",
       "0  07-05         hot     sunny     high  False   no\n",
       "1  07-06         hot     sunny     high   True   no\n",
       "2  07-07         hot  overcast     high  False  yes\n",
       "3  07-09        cool      rain   normal  False  yes\n",
       "4  07-10        cool  overcast   normal   True  yes"
      ]
     },
     "execution_count": 3,
     "metadata": {},
     "output_type": "execute_result"
    }
   ],
   "source": [
    "df.head()"
   ]
  },
  {
   "cell_type": "code",
   "execution_count": 4,
   "metadata": {},
   "outputs": [],
   "source": [
    "def p(feature, value, label):\n",
    "    count = 0\n",
    "    lcount = 0\n",
    "    for feat in feature:\n",
    "        if (feat[0] == value):\n",
    "            count += 1        \n",
    "            if (feat[1] == label):\n",
    "                lcount += 1\n",
    "\n",
    "    return lcount/count"
   ]
  },
  {
   "cell_type": "code",
   "execution_count": 5,
   "metadata": {},
   "outputs": [
    {
     "data": {
      "text/plain": [
       "array([['hot', 'no'],\n",
       "       ['hot', 'no'],\n",
       "       ['hot', 'yes'],\n",
       "       ['cool', 'yes'],\n",
       "       ['cool', 'yes'],\n",
       "       ['mild', 'no'],\n",
       "       ['cool', 'yes'],\n",
       "       ['mild', 'yes'],\n",
       "       ['mild', 'yes'],\n",
       "       ['mild', 'yes'],\n",
       "       ['hot', 'yes'],\n",
       "       ['mild', 'no'],\n",
       "       ['cool', 'no'],\n",
       "       ['mild', 'yes']], dtype=object)"
      ]
     },
     "execution_count": 5,
     "metadata": {},
     "output_type": "execute_result"
    }
   ],
   "source": [
    "df_temperature = df[['Temperature','Golf']].values\n",
    "df_temperature"
   ]
  },
  {
   "cell_type": "code",
   "execution_count": 6,
   "metadata": {},
   "outputs": [
    {
     "data": {
      "text/plain": [
       "0.5"
      ]
     },
     "execution_count": 6,
     "metadata": {},
     "output_type": "execute_result"
    }
   ],
   "source": [
    "# Teste die Methode p für die Wahrscheinlichkeit zum Golfspielen abhängig von der Temperatur\n",
    "p(df_temperature, 'hot', 'yes')"
   ]
  },
  {
   "cell_type": "code",
   "execution_count": 7,
   "metadata": {},
   "outputs": [],
   "source": [
    "def gini_impurity(feature, golf):\n",
    "    value_set = []\n",
    "    for feat in feature:\n",
    "        if feat[0] not in value_set:\n",
    "            value_set.append(feat[0])\n",
    "            \n",
    "    gini = 0.0\n",
    "    for value in value_set:\n",
    "        gini += p(feature, value, golf) * (1 - p(feature, value, golf))\n",
    "    return gini"
   ]
  },
  {
   "cell_type": "code",
   "execution_count": 8,
   "metadata": {},
   "outputs": [
    {
     "data": {
      "text/plain": [
       "0.6597222222222222"
      ]
     },
     "execution_count": 8,
     "metadata": {},
     "output_type": "execute_result"
    }
   ],
   "source": [
    "gini_impurity_temperature = gini_impurity(df_temperature, 'yes')\n",
    "gini_impurity_temperature"
   ]
  },
  {
   "cell_type": "code",
   "execution_count": 9,
   "metadata": {},
   "outputs": [
    {
     "data": {
      "text/plain": [
       "array([['sunny', 'no'],\n",
       "       ['sunny', 'no'],\n",
       "       ['overcast', 'yes'],\n",
       "       ['rain', 'yes'],\n",
       "       ['overcast', 'yes'],\n",
       "       ['sunny', 'no'],\n",
       "       ['sunny', 'yes'],\n",
       "       ['rain', 'yes'],\n",
       "       ['sunny', 'yes'],\n",
       "       ['overcast', 'yes'],\n",
       "       ['overcast', 'yes'],\n",
       "       ['rain', 'no'],\n",
       "       ['rain', 'no'],\n",
       "       ['rain', 'yes']], dtype=object)"
      ]
     },
     "execution_count": 9,
     "metadata": {},
     "output_type": "execute_result"
    }
   ],
   "source": [
    "df_outlook = df[['Outlook','Golf']].values\n",
    "df_outlook"
   ]
  },
  {
   "cell_type": "code",
   "execution_count": 10,
   "metadata": {},
   "outputs": [
    {
     "data": {
      "text/plain": [
       "0.48"
      ]
     },
     "execution_count": 10,
     "metadata": {},
     "output_type": "execute_result"
    }
   ],
   "source": [
    "gini_impurity_outlook = gini_impurity(df_outlook, 'yes')\n",
    "gini_impurity_outlook"
   ]
  },
  {
   "cell_type": "code",
   "execution_count": 11,
   "metadata": {},
   "outputs": [
    {
     "data": {
      "text/plain": [
       "array([['high', 'no'],\n",
       "       ['high', 'no'],\n",
       "       ['high', 'yes'],\n",
       "       ['normal', 'yes'],\n",
       "       ['normal', 'yes'],\n",
       "       ['high', 'no'],\n",
       "       ['normal', 'yes'],\n",
       "       ['normal', 'yes'],\n",
       "       ['normal', 'yes'],\n",
       "       ['high', 'yes'],\n",
       "       ['normal', 'yes'],\n",
       "       ['high', 'no'],\n",
       "       ['normal', 'no'],\n",
       "       ['high', 'yes']], dtype=object)"
      ]
     },
     "execution_count": 11,
     "metadata": {},
     "output_type": "execute_result"
    }
   ],
   "source": [
    "df_humidity = df[['Humidity','Golf']].values\n",
    "df_humidity"
   ]
  },
  {
   "cell_type": "code",
   "execution_count": 12,
   "metadata": {},
   "outputs": [
    {
     "data": {
      "text/plain": [
       "0.3673469387755102"
      ]
     },
     "execution_count": 12,
     "metadata": {},
     "output_type": "execute_result"
    }
   ],
   "source": [
    "gini_impurity_humidity = gini_impurity(df_humidity, 'yes')\n",
    "gini_impurity_humidity"
   ]
  },
  {
   "cell_type": "code",
   "execution_count": 13,
   "metadata": {},
   "outputs": [
    {
     "data": {
      "text/plain": [
       "array([[False, 'no'],\n",
       "       [True, 'no'],\n",
       "       [False, 'yes'],\n",
       "       [False, 'yes'],\n",
       "       [True, 'yes'],\n",
       "       [False, 'no'],\n",
       "       [False, 'yes'],\n",
       "       [False, 'yes'],\n",
       "       [True, 'yes'],\n",
       "       [True, 'yes'],\n",
       "       [False, 'yes'],\n",
       "       [True, 'no'],\n",
       "       [True, 'no'],\n",
       "       [False, 'yes']], dtype=object)"
      ]
     },
     "execution_count": 13,
     "metadata": {},
     "output_type": "execute_result"
    }
   ],
   "source": [
    "df_windy = df[['Windy','Golf']].values\n",
    "df_windy"
   ]
  },
  {
   "cell_type": "code",
   "execution_count": 14,
   "metadata": {},
   "outputs": [
    {
     "data": {
      "text/plain": [
       "0.4375"
      ]
     },
     "execution_count": 14,
     "metadata": {},
     "output_type": "execute_result"
    }
   ],
   "source": [
    "gini_impurity_windy = gini_impurity(df_windy, 'yes')\n",
    "gini_impurity_windy"
   ]
  },
  {
   "cell_type": "code",
   "execution_count": 15,
   "metadata": {},
   "outputs": [
    {
     "name": "stdout",
     "output_type": "stream",
     "text": [
      "Temperature: 0.6597222222222222\n"
     ]
    }
   ],
   "source": [
    "all_ginis = []\n",
    "all_ginis.append([gini_impurity_temperature, 'Temperature'])\n",
    "all_ginis.append([gini_impurity_outlook, 'Outlook'])\n",
    "all_ginis.append([gini_impurity_humidity, 'Humidity'])\n",
    "all_ginis.append([gini_impurity_windy, 'Windy'])\n",
    "\n",
    "best_gini = max(all_ginis)\n",
    "\n",
    "print(best_gini[1] + \": \" + repr(best_gini[0]))"
   ]
  },
  {
   "cell_type": "code",
   "execution_count": null,
   "metadata": {},
   "outputs": [],
   "source": []
  }
 ],
 "metadata": {
  "kernelspec": {
   "display_name": "Python 3",
   "language": "python",
   "name": "python3"
  },
  "language_info": {
   "codemirror_mode": {
    "name": "ipython",
    "version": 3
   },
   "file_extension": ".py",
   "mimetype": "text/x-python",
   "name": "python",
   "nbconvert_exporter": "python",
   "pygments_lexer": "ipython3",
   "version": "3.7.3"
  }
 },
 "nbformat": 4,
 "nbformat_minor": 2
}
